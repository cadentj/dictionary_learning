{
 "cells": [
  {
   "cell_type": "code",
   "execution_count": 6,
   "metadata": {},
   "outputs": [
    {
     "name": "stdout",
     "output_type": "stream",
     "text": [
      "The autoreload extension is already loaded. To reload it, use:\n",
      "  %reload_ext autoreload\n"
     ]
    }
   ],
   "source": [
    "%load_ext autoreload\n",
    "%autoreload 2\n",
    "import sys\n",
    "sys.path.append('..')\n",
    "\n",
    "from buffer import AllActivationBuffer\n",
    "from trainers.scae import TrainerConfig\n",
    "from training import train_scae_suite\n",
    "\n",
    "from datasets import load_dataset\n",
    "import torch as t\n",
    "from nnsight import LanguageModel\n",
    "from collections import defaultdict\n",
    "\n",
    "DTYPE = t.bfloat16\n",
    "device = \"cuda:0\" if t.cuda.is_available() else \"cpu\"\n",
    "model = LanguageModel(\"gpt2\", device_map=device, torch_dtype=DTYPE)\n",
    "\n",
    "dataset = load_dataset(\n",
    "    'Skylion007/openwebtext', \n",
    "    split='train', \n",
    "    streaming=True,\n",
    "    trust_remote_code=True\n",
    "    )\n",
    "\n",
    "class CustomData():\n",
    "    '''dumb helper class to make the dataset iterable'''\n",
    "    def __init__(self, dataset):\n",
    "        self.data = iter(dataset)\n",
    "    def __iter__(self):\n",
    "        return self\n",
    "    def __next__(self):\n",
    "        return next(self.data)['text']\n",
    "\n",
    "data = CustomData(dataset)"
   ]
  },
  {
   "cell_type": "code",
   "execution_count": 7,
   "metadata": {},
   "outputs": [],
   "source": [
    "C = 10\n",
    "expansion = 16\n",
    "k = 128\n",
    "\n",
    "num_features = model.config.n_embd * expansion\n",
    "n_layer = model.config.n_layer"
   ]
  },
  {
   "cell_type": "code",
   "execution_count": 8,
   "metadata": {},
   "outputs": [],
   "source": [
    "pretrained_configs = {}\n",
    "connections = defaultdict(dict)\n",
    "\n",
    "for down_layer in range(n_layer):\n",
    "    for module in ['attn', 'mlp']:\n",
    "        down_name = f'{module}_{down_layer}'\n",
    "        pretrained_configs[f'{module}_{down_layer}'] = {\n",
    "            'repo_id': 'jacobcd52/scae', \n",
    "            'filename': f'ae_{module}_{down_layer}.pt',\n",
    "            'k' : k\n",
    "            }\n",
    "        \n",
    "        # Use random connections for testing\n",
    "        if module=='mlp':\n",
    "            for up_layer in range(down_layer):\n",
    "                up_name = f'{module}_{up_layer}'\n",
    "                connections[down_name][up_name] = t.randint(0, num_features, (num_features, C), dtype=t.long)"
   ]
  },
  {
   "cell_type": "code",
   "execution_count": 9,
   "metadata": {},
   "outputs": [
    {
     "name": "stderr",
     "output_type": "stream",
     "text": [
      "You're using a GPT2TokenizerFast tokenizer. Please note that with a fast tokenizer, using the `__call__` method is faster than using a method to encode the text followed by a call to the `pad` method to get a padded encoding.\n"
     ]
    }
   ],
   "source": [
    "submodules = {}\n",
    "for layer in range(n_layer):\n",
    "    submodules[f\"mlp_{layer}\"] = (model.transformer.h[layer].mlp, \"in_and_out\")\n",
    "    submodules[f\"attn_{layer}\"] = (model.transformer.h[layer].attn, \"out\")\n",
    "    \n",
    "buffer = AllActivationBuffer(\n",
    "    data=data,\n",
    "    model=model,\n",
    "    submodules=submodules,\n",
    "    d_submodule=model.config.n_embd,\n",
    "    n_ctxs=128,\n",
    "    out_batch_size = 128,\n",
    "    refresh_batch_size = 256,\n",
    "    device=device,\n",
    "    dtype=DTYPE,\n",
    ")"
   ]
  },
  {
   "cell_type": "code",
   "execution_count": 10,
   "metadata": {},
   "outputs": [
    {
     "data": {
      "application/vnd.jupyter.widget-view+json": {
       "model_id": "0591a0c5406746af9f8b9ec6413ed874",
       "version_major": 2,
       "version_minor": 0
      },
      "text/plain": [
       "  0%|          | 0/100 [00:00<?, ?it/s]"
      ]
     },
     "metadata": {},
     "output_type": "display_data"
    }
   ],
   "source": [
    "trainer_cfg = TrainerConfig(\n",
    "    connection_sparsity_coeff=0.1,\n",
    "    steps=100,\n",
    ")\n",
    "\n",
    "trainer = train_scae_suite(\n",
    "    buffer,\n",
    "    module_specs=pretrained_configs,\n",
    "    trainer_config=trainer_cfg,\n",
    "    connections=connections,\n",
    "    steps=100,\n",
    "    save_steps = 10,\n",
    "    dtype = DTYPE,\n",
    "    device=device,\n",
    "    # save_dir: Optional[str] = None,\n",
    "    # log_steps: Optional[int] = None,\n",
    "    # use_wandb: bool = False,\n",
    "    # hf_repo_id: Optional[str] = None,\n",
    "    # seed: Optional[int] = None,\n",
    ")"
   ]
  },
  {
   "cell_type": "code",
   "execution_count": null,
   "metadata": {},
   "outputs": [],
   "source": []
  }
 ],
 "metadata": {
  "kernelspec": {
   "display_name": "Python 3",
   "language": "python",
   "name": "python3"
  },
  "language_info": {
   "codemirror_mode": {
    "name": "ipython",
    "version": 3
   },
   "file_extension": ".py",
   "mimetype": "text/x-python",
   "name": "python",
   "nbconvert_exporter": "python",
   "pygments_lexer": "ipython3",
   "version": "3.11.10"
  }
 },
 "nbformat": 4,
 "nbformat_minor": 2
}
