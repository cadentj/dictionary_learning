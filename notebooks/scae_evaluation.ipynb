{
 "cells": [
  {
   "cell_type": "code",
   "execution_count": 25,
   "metadata": {},
   "outputs": [
    {
     "name": "stdout",
     "output_type": "stream",
     "text": [
      "The autoreload extension is already loaded. To reload it, use:\n",
      "  %reload_ext autoreload\n"
     ]
    }
   ],
   "source": [
    "%load_ext autoreload\n",
    "%autoreload 2\n",
    "import sys\n",
    "sys.path.append('..')\n",
    "\n",
    "from datasets import load_dataset\n",
    "import torch as t\n",
    "from nnsight import LanguageModel\n",
    "from tqdm import tqdm\n",
    "from collections import defaultdict\n",
    "import json\n",
    "\n",
    "from buffer import AllActivationBuffer\n",
    "from trainers.scae import SCAESuite\n",
    "from utils import load_model_with_folded_ln2, load_iterable_dataset\n",
    "\n",
    "DTYPE = t.bfloat16\n",
    "device = \"cuda:0\" if t.cuda.is_available() else \"cpu\"\n",
    "t.set_grad_enabled(False)\n",
    "t.manual_seed(42)\n",
    "\n",
    "model = load_model_with_folded_ln2(\"gpt2\", device=device, torch_dtype=DTYPE)\n",
    "data = load_iterable_dataset('Skylion007/openwebtext')"
   ]
  },
  {
   "cell_type": "code",
   "execution_count": 26,
   "metadata": {},
   "outputs": [],
   "source": [
    "C = 10\n",
    "expansion = 16\n",
    "k = 128\n",
    "\n",
    "num_features = model.config.n_embd * expansion\n",
    "n_layer = model.config.n_layer"
   ]
  },
  {
   "cell_type": "code",
   "execution_count": 27,
   "metadata": {},
   "outputs": [
    {
     "name": "stderr",
     "output_type": "stream",
     "text": [
      "/root/dictionary_learning/notebooks/../trainers/scae.py:647: FutureWarning: You are using `torch.load` with `weights_only=False` (the current default value), which uses the default pickle module implicitly. It is possible to construct malicious pickle data which will execute arbitrary code during unpickling (See https://github.com/pytorch/pytorch/blob/main/SECURITY.md#untrusted-models for more details). In a future release, the default value for `weights_only` will be flipped to `True`. This limits the functions that could be executed during unpickling. Arbitrary objects will no longer be allowed to be loaded via this mode unless they are explicitly allowlisted by the user via `torch.serialization.add_safe_globals`. We recommend you start setting `weights_only=True` for any use case where you don't have full control of the loaded file. Please open an issue on GitHub for any issues related to this experimental feature.\n",
      "  checkpoint = t.load(checkpoint_path, map_location='cpu')\n"
     ]
    }
   ],
   "source": [
    "suite = SCAESuite.from_pretrained(\n",
    "    'jacobcd52/gpt2_suite_folded_ln',\n",
    "    device=device,\n",
    "    dtype=DTYPE,\n",
    "    )"
   ]
  },
  {
   "cell_type": "code",
   "execution_count": 28,
   "metadata": {},
   "outputs": [
    {
     "name": "stderr",
     "output_type": "stream",
     "text": [
      "/root/dictionary_learning/notebooks/../buffer.py:235: FutureWarning: `torch.cuda.amp.autocast(args...)` is deprecated. Please use `torch.amp.autocast('cuda', args...)` instead.\n",
      "  t.cuda.amp.autocast(dtype=self.dtype)\n",
      "You're using a GPT2TokenizerFast tokenizer. Please note that with a fast tokenizer, using the `__call__` method is faster than using a method to encode the text followed by a call to the `pad` method to get a padded encoding.\n"
     ]
    }
   ],
   "source": [
    "initial_submodule = model.transformer.h[0]\n",
    "layernorm_submodules = {}\n",
    "submodules = {}\n",
    "for layer in range(n_layer):\n",
    "    submodules[f\"mlp_{layer}\"] = (model.transformer.h[layer].mlp, \"in_and_out\")\n",
    "    submodules[f\"attn_{layer}\"] = (model.transformer.h[layer].attn, \"out\")\n",
    "\n",
    "    layernorm_submodules[f\"mlp_{layer}\"] = model.transformer.h[layer].ln_2\n",
    "\n",
    "buffer = AllActivationBuffer(\n",
    "    data=data,\n",
    "    model=model,\n",
    "    submodules=submodules,\n",
    "    initial_submodule=initial_submodule,\n",
    "    layernorm_submodules=layernorm_submodules,\n",
    "    d_submodule=model.config.n_embd,\n",
    "    n_ctxs=128,\n",
    "    out_batch_size = 32,\n",
    "    refresh_batch_size = 256,\n",
    "    device=device,\n",
    "    dtype=DTYPE,\n",
    ")"
   ]
  },
  {
   "cell_type": "code",
   "execution_count": 29,
   "metadata": {},
   "outputs": [],
   "source": [
    "# load connections from top_connections.pkl\n",
    "# USE PICKLE\n",
    "import pickle\n",
    "with open('/root/dictionary_learning/top_connections.pkl', 'rb') as f:\n",
    "    top_connections = pickle.load(f)\n",
    "suite.connections = top_connections"
   ]
  },
  {
   "cell_type": "code",
   "execution_count": 10,
   "metadata": {},
   "outputs": [],
   "source": [
    "# # all_conns = t.arange(0, num_features, device=device, dtype=t.int64).expand(C, num_features)\n",
    "# random_conns = t.randint(0, num_features, (num_features, C), device=device, dtype=t.int64)\n",
    "# connections = {}\n",
    "# for down_layer in range(n_layer):\n",
    "#     # connections[f\"attn_{down_layer}\"] = {}\n",
    "#     connections[f\"mlp_{down_layer}\"] = {}\n",
    "#     for up_layer in range(down_layer):\n",
    "#         connections[f\"mlp_{down_layer}\"][f\"attn_{up_layer}\"] = random_conns\n",
    "#         connections[f\"mlp_{down_layer}\"][f\"mlp_{up_layer}\"] = random_conns\n",
    "#     connections[f\"mlp_{down_layer}\"][f\"attn_{down_layer}\"] = random_conns\n",
    "\n",
    "# suite.connections = connections"
   ]
  },
  {
   "cell_type": "code",
   "execution_count": 30,
   "metadata": {},
   "outputs": [],
   "source": [
    "def run_evaluation(\n",
    "        suite, \n",
    "        buffer, \n",
    "        n_batches=10, \n",
    "        ce_batch_size=32,\n",
    "        use_sparse_connections=False\n",
    "        ):\n",
    "    '''Simple function to run evaluation on several batches, and return the average metrics'''\n",
    "    \n",
    "    varexp_metrics = {name : {} for name in buffer.submodules.keys()}\n",
    "    ce_metrics = {name : {} for name in buffer.submodules.keys()}\n",
    "\n",
    "    for i in tqdm(range(n_batches)):\n",
    "        # get varexp metrics\n",
    "        initial_acts, input_acts, output_acts, layernorm_scales = next(buffer)\n",
    "        batch_varexp_metrics = suite.evaluate_varexp_batch(\n",
    "            initial_acts,\n",
    "            input_acts, \n",
    "            output_acts,\n",
    "            layernorm_scales,\n",
    "            use_sparse_connections=use_sparse_connections\n",
    "            )\n",
    "\n",
    "        # # get CE metrics\n",
    "        # b = buffer.refresh_batch_size\n",
    "        # buffer.refresh_batch_size = ce_batch_size\n",
    "        # tokens = buffer.token_batch()\n",
    "        # batch_ce_metrics = suite.evaluate_ce_batch(\n",
    "        #     model, \n",
    "        #     tokens, \n",
    "        #     initial_submodule,\n",
    "        #     submodules,\n",
    "        #     layernorm_submodules,\n",
    "        #     use_sparse_connections=use_sparse_connections\n",
    "        #     )\n",
    "        # buffer.refresh_batch_size = b\n",
    "\n",
    "        for name in ce_metrics.keys():\n",
    "            # for metric in batch_ce_metrics[name].keys():\n",
    "            #     ce_metrics[name][metric] = ce_metrics[name].get(metric, 0) + batch_ce_metrics[name].get(metric, 0) / n_batches\n",
    "            for metric in batch_varexp_metrics[name].keys():\n",
    "                varexp_metrics[name][metric] = varexp_metrics[name].get(metric, 0) + batch_varexp_metrics[name].get(metric, 0) / n_batches\n",
    "           \n",
    "    return varexp_metrics, ce_metrics"
   ]
  },
  {
   "cell_type": "code",
   "execution_count": 34,
   "metadata": {},
   "outputs": [
    {
     "name": "stderr",
     "output_type": "stream",
     "text": [
      "  0%|          | 0/10 [00:00<?, ?it/s]"
     ]
    },
    {
     "name": "stderr",
     "output_type": "stream",
     "text": [
      "100%|██████████| 10/10 [00:00<00:00, 81.46it/s]\n"
     ]
    }
   ],
   "source": [
    "varexp_metrics, ce_metrics = run_evaluation(\n",
    "    suite, \n",
    "    buffer, \n",
    "    n_batches=10, \n",
    "    ce_batch_size=1,\n",
    "    use_sparse_connections=False\n",
    "    )"
   ]
  },
  {
   "cell_type": "code",
   "execution_count": 35,
   "metadata": {},
   "outputs": [],
   "source": [
    "for name in ce_metrics.keys():\n",
    "    ce_metrics[name]['loss_reconstructed'] = 1\n",
    "    ce_metrics[name]['loss_original'] = 1\n",
    "    ce_metrics[name]['frac_recovered'] = 1"
   ]
  },
  {
   "cell_type": "code",
   "execution_count": 33,
   "metadata": {},
   "outputs": [
    {
     "name": "stdout",
     "output_type": "stream",
     "text": [
      "Clean loss = 1.000\n",
      "\n",
      "Module  CE increase  CE expl FVU\n",
      "mlp_0   0.000        100%     5%\n",
      "mlp_1   0.000        100%     18%\n",
      "mlp_2   0.000        100%     51%\n",
      "mlp_3   0.000        100%     23%\n",
      "mlp_4   0.000        100%     24%\n",
      "mlp_5   0.000        100%     24%\n",
      "mlp_6   0.000        100%     25%\n",
      "mlp_7   0.000        100%     24%\n",
      "mlp_8   0.000        100%     23%\n",
      "mlp_9   0.000        100%     20%\n",
      "mlp_10   0.000        100%     277%\n",
      "mlp_11   0.000        100%     405%\n",
      "\n",
      "attn_0   0.000        100%     1%\n",
      "attn_1   0.000        100%     3%\n",
      "attn_2   0.000        100%     4%\n",
      "attn_3   0.000        100%     6%\n",
      "attn_4   0.000        100%     8%\n",
      "attn_5   0.000        100%     7%\n",
      "attn_6   0.000        100%     8%\n",
      "attn_7   0.000        100%     7%\n",
      "attn_8   0.000        100%     8%\n",
      "attn_9   0.000        100%     7%\n",
      "attn_10   0.000        100%     6%\n",
      "attn_11   0.000        100%     1%\n"
     ]
    }
   ],
   "source": [
    "print(f\"Clean loss = {ce_metrics['mlp_0']['loss_original']:.3f}\\n\")\n",
    "\n",
    "print(\"Module  CE increase  CE expl FVU\")\n",
    "for name in [k for k in ce_metrics.keys() if 'mlp' in k]:\n",
    "    print(f\"{name}   {ce_metrics[name]['loss_reconstructed'] - ce_metrics[name]['loss_original']:.3f}        {ce_metrics[name]['frac_recovered']*100:.0f}%     {varexp_metrics[name]['FVU']*100:.0f}%\")\n",
    "\n",
    "print()\n",
    "\n",
    "for name in [k for k in ce_metrics.keys() if 'attn' in k]:\n",
    "    print(f\"{name}   {ce_metrics[name]['loss_reconstructed'] - ce_metrics[name]['loss_original']:.3f}        {ce_metrics[name]['frac_recovered']*100:.0f}%     {varexp_metrics[name]['FVU']*100:.0f}%\")"
   ]
  },
  {
   "cell_type": "code",
   "execution_count": 36,
   "metadata": {},
   "outputs": [
    {
     "name": "stdout",
     "output_type": "stream",
     "text": [
      "Clean loss = 1.000\n",
      "\n",
      "Module  CE increase  CE expl FVU\n",
      "mlp_0   0.000        100%     4%\n",
      "mlp_1   0.000        100%     11%\n",
      "mlp_2   0.000        100%     19%\n",
      "mlp_3   0.000        100%     12%\n",
      "mlp_4   0.000        100%     15%\n",
      "mlp_5   0.000        100%     16%\n",
      "mlp_6   0.000        100%     17%\n",
      "mlp_7   0.000        100%     17%\n",
      "mlp_8   0.000        100%     17%\n",
      "mlp_9   0.000        100%     15%\n",
      "mlp_10   0.000        100%     11%\n",
      "mlp_11   0.000        100%     8%\n",
      "\n",
      "attn_0   0.000        100%     1%\n",
      "attn_1   0.000        100%     3%\n",
      "attn_2   0.000        100%     4%\n",
      "attn_3   0.000        100%     6%\n",
      "attn_4   0.000        100%     8%\n",
      "attn_5   0.000        100%     7%\n",
      "attn_6   0.000        100%     8%\n",
      "attn_7   0.000        100%     7%\n",
      "attn_8   0.000        100%     8%\n",
      "attn_9   0.000        100%     7%\n",
      "attn_10   0.000        100%     6%\n",
      "attn_11   0.000        100%     1%\n"
     ]
    }
   ],
   "source": [
    "print(f\"Clean loss = {ce_metrics['mlp_0']['loss_original']:.3f}\\n\")\n",
    "\n",
    "print(\"Module  CE increase  CE expl FVU\")\n",
    "for name in [k for k in ce_metrics.keys() if 'mlp' in k]:\n",
    "    print(f\"{name}   {ce_metrics[name]['loss_reconstructed'] - ce_metrics[name]['loss_original']:.3f}        {ce_metrics[name]['frac_recovered']*100:.0f}%     {varexp_metrics[name]['FVU']*100:.0f}%\")\n",
    "\n",
    "print()\n",
    "\n",
    "for name in [k for k in ce_metrics.keys() if 'attn' in k]:\n",
    "    print(f\"{name}   {ce_metrics[name]['loss_reconstructed'] - ce_metrics[name]['loss_original']:.3f}        {ce_metrics[name]['frac_recovered']*100:.0f}%     {varexp_metrics[name]['FVU']*100:.0f}%\")"
   ]
  },
  {
   "cell_type": "code",
   "execution_count": 38,
   "metadata": {},
   "outputs": [
    {
     "data": {
      "text/plain": [
       "{'mlp_0': tensor([[   -1,    -1,    -1,  ...,    -1,    -1,    -1],\n",
       "         [  250,    -1, 11139,  ...,    -1,  7932,    -1],\n",
       "         [   -1,    -1,    -1,  ...,    -1,    -1,    -1],\n",
       "         ...,\n",
       "         [  250,    -1, 11139,  ..., 12242,    -1,    -1],\n",
       "         [  250,    -1,    -1,  ..., 11132,    -1,    -1],\n",
       "         [   -1,    -1,    -1,  ...,    -1,    -1,    -1]], device='cuda:0'),\n",
       " 'mlp_1': tensor([[   -1,    -1,    -1,  ...,    -1,    -1,    -1],\n",
       "         [   -1,  3208,    -1,  ...,    -1,    -1,  2056],\n",
       "         [   -1,    -1,    -1,  ...,    -1,    -1,    -1],\n",
       "         ...,\n",
       "         [   -1,  3208,    -1,  ...,    -1,  3180,    -1],\n",
       "         [   -1,    -1, 11580,  ...,    -1,    -1,    -1],\n",
       "         [ 3208,    -1,    -1,  ...,    -1,    -1,    -1]], device='cuda:0'),\n",
       " 'attn_0': tensor([[   -1,    -1,    -1,  ...,    -1,    -1,    -1],\n",
       "         [   -1,    -1,    -1,  ...,    -1,    -1,    -1],\n",
       "         [   -1,    -1,    -1,  ...,    -1,    -1,    -1],\n",
       "         ...,\n",
       "         [   -1,    -1,    -1,  ...,    -1,    -1,  8040],\n",
       "         [   -1,  7999,    -1,  ...,    -1, 10984,    -1],\n",
       "         [   -1,  7999,  6528,  ...,    -1,    -1,    -1]], device='cuda:0'),\n",
       " 'attn_1': tensor([[  -1,   -1,   -1,  ...,   -1,   -1,   -1],\n",
       "         [  -1,   -1,   -1,  ...,   -1,   -1,   -1],\n",
       "         [  -1,   -1,   -1,  ...,   -1,   -1,   -1],\n",
       "         ...,\n",
       "         [  -1,   -1,   -1,  ...,   -1,   -1,   -1],\n",
       "         [  -1,   -1,   -1,  ...,   -1,   -1, 9584],\n",
       "         [  -1,   -1,   -1,  ...,   -1, 1383, 5653]], device='cuda:0'),\n",
       " 'attn_2': tensor([[  -1,   -1,   -1,  ...,   -1,   -1,   -1],\n",
       "         [  -1,   -1,   -1,  ...,  321,   -1,   -1],\n",
       "         [  -1,   -1,   -1,  ...,   -1,   -1,   -1],\n",
       "         ...,\n",
       "         [  -1,   -1,   -1,  ...,   -1,   -1,   -1],\n",
       "         [  -1,   -1,   -1,  ...,   -1,   -1,   -1],\n",
       "         [  -1,   -1,   -1,  ..., 6794,   -1,   -1]], device='cuda:0')}"
      ]
     },
     "execution_count": 38,
     "metadata": {},
     "output_type": "execute_result"
    }
   ],
   "source": [
    "top_connections['mlp_10']"
   ]
  }
 ],
 "metadata": {
  "kernelspec": {
   "display_name": "Python 3",
   "language": "python",
   "name": "python3"
  },
  "language_info": {
   "codemirror_mode": {
    "name": "ipython",
    "version": 3
   },
   "file_extension": ".py",
   "mimetype": "text/x-python",
   "name": "python",
   "nbconvert_exporter": "python",
   "pygments_lexer": "ipython3",
   "version": "3.11.10"
  }
 },
 "nbformat": 4,
 "nbformat_minor": 2
}
