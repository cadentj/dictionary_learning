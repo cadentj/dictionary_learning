{
 "cells": [
  {
   "cell_type": "code",
   "execution_count": 1,
   "metadata": {},
   "outputs": [],
   "source": [
    "%load_ext autoreload\n",
    "%autoreload 2\n",
    "import sys\n",
    "sys.path.append('..')\n",
    "\n",
    "from datasets import load_dataset\n",
    "import torch as t\n",
    "from nnsight import LanguageModel\n",
    "from tqdm import tqdm\n",
    "from collections import defaultdict\n",
    "import json\n",
    "import pickle\n",
    "from typing import List, Dict, Any\n",
    "\n",
    "from buffer import AllActivationBuffer\n",
    "from trainers.scae import SCAESuite\n",
    "from utils import load_model_with_folded_ln2, load_iterable_dataset\n",
    "\n",
    "DTYPE = t.bfloat16\n",
    "device = \"cuda:0\" if t.cuda.is_available() else \"cpu\"\n",
    "t.set_grad_enabled(False)\n",
    "t.manual_seed(42)\n",
    "\n",
    "model = load_model_with_folded_ln2(\"gpt2\", device=device, torch_dtype=DTYPE)\n",
    "data = load_iterable_dataset('Skylion007/openwebtext')"
   ]
  },
  {
   "cell_type": "code",
   "execution_count": 2,
   "metadata": {},
   "outputs": [],
   "source": [
    "expansion = 16\n",
    "k = 128\n",
    "\n",
    "num_features = model.config.n_embd * expansion\n",
    "n_layer = model.config.n_layer"
   ]
  },
  {
   "cell_type": "code",
   "execution_count": 3,
   "metadata": {},
   "outputs": [
    {
     "name": "stderr",
     "output_type": "stream",
     "text": [
      "/root/dictionary_learning/notebooks/../trainers/scae.py:628: FutureWarning: You are using `torch.load` with `weights_only=False` (the current default value), which uses the default pickle module implicitly. It is possible to construct malicious pickle data which will execute arbitrary code during unpickling (See https://github.com/pytorch/pytorch/blob/main/SECURITY.md#untrusted-models for more details). In a future release, the default value for `weights_only` will be flipped to `True`. This limits the functions that could be executed during unpickling. Arbitrary objects will no longer be allowed to be loaded via this mode unless they are explicitly allowlisted by the user via `torch.serialization.add_safe_globals`. We recommend you start setting `weights_only=True` for any use case where you don't have full control of the loaded file. Please open an issue on GitHub for any issues related to this experimental feature.\n",
      "  checkpoint = t.load(checkpoint_path, map_location='cpu')\n"
     ]
    }
   ],
   "source": [
    "suite = SCAESuite.from_pretrained(\n",
    "    'jacobcd52/gpt2_suite_folded_ln',\n",
    "    device=device,\n",
    "    dtype=DTYPE,\n",
    "    )"
   ]
  },
  {
   "cell_type": "code",
   "execution_count": 4,
   "metadata": {},
   "outputs": [
    {
     "name": "stderr",
     "output_type": "stream",
     "text": [
      "/root/dictionary_learning/notebooks/../buffer.py:235: FutureWarning: `torch.cuda.amp.autocast(args...)` is deprecated. Please use `torch.amp.autocast('cuda', args...)` instead.\n",
      "  t.cuda.amp.autocast(dtype=self.dtype)\n",
      "You're using a GPT2TokenizerFast tokenizer. Please note that with a fast tokenizer, using the `__call__` method is faster than using a method to encode the text followed by a call to the `pad` method to get a padded encoding.\n"
     ]
    }
   ],
   "source": [
    "initial_submodule = model.transformer.h[0]\n",
    "layernorm_submodules = {}\n",
    "submodules = {}\n",
    "for layer in range(n_layer):\n",
    "    submodules[f\"mlp_{layer}\"] = (model.transformer.h[layer].mlp, \"in_and_out\")\n",
    "    submodules[f\"attn_{layer}\"] = (model.transformer.h[layer].attn, \"out\")\n",
    "\n",
    "    layernorm_submodules[f\"mlp_{layer}\"] = model.transformer.h[layer].ln_2\n",
    "\n",
    "buffer = AllActivationBuffer(\n",
    "    data=data,\n",
    "    model=model,\n",
    "    submodules=submodules,\n",
    "    initial_submodule=initial_submodule,\n",
    "    layernorm_submodules=layernorm_submodules,\n",
    "    d_submodule=model.config.n_embd,\n",
    "    n_ctxs=128,\n",
    "    out_batch_size = 32,\n",
    "    refresh_batch_size = 256,\n",
    "    device=device,\n",
    "    dtype=DTYPE,\n",
    ")"
   ]
  },
  {
   "cell_type": "code",
   "execution_count": 5,
   "metadata": {},
   "outputs": [],
   "source": [
    "from tqdm import tqdm\n",
    "import psutil\n",
    "import sys\n",
    "\n",
    "def get_top_c_indices(top_connections_dict: Dict[str, t.Tensor], c: int, chunk_size: int = 100, \n",
    "                      memory_threshold_gb: float = 32) -> Dict[str, t.Tensor]:\n",
    "    \"\"\"\n",
    "    Args:\n",
    "        top_connections_dict: Dictionary mapping strings to sparse COO tensors, each of shape [M, N]\n",
    "        c: Number of top indices to return per row\n",
    "        chunk_size: Number of rows to process at once to manage memory\n",
    "        memory_threshold_gb: Maximum allowed CPU memory usage in gigabytes\n",
    "        \n",
    "    Returns:\n",
    "        Dictionary mapping strings to tensors of shape [M, c] containing indices that correspond\n",
    "        to values that rank in the top c by magnitude across all dictionary entries combined\n",
    "        \n",
    "    Raises:\n",
    "        MemoryError: If CPU memory usage exceeds memory_threshold_gb\n",
    "    \"\"\"\n",
    "    def get_memory_usage_gb():\n",
    "        \"\"\"Get current memory usage in GB\"\"\"\n",
    "        process = psutil.Process()\n",
    "        return process.memory_info().rss / (1024 ** 3)\n",
    "    \n",
    "    def check_memory_usage():\n",
    "        \"\"\"Check if memory usage exceeds threshold\"\"\"\n",
    "        current_usage = get_memory_usage_gb()\n",
    "        if current_usage > memory_threshold_gb:\n",
    "            raise MemoryError(f\"Memory usage ({current_usage:.2f}GB) exceeded threshold ({memory_threshold_gb}GB)\")\n",
    "    \n",
    "    # Initial memory check\n",
    "    check_memory_usage()\n",
    "    \n",
    "    # Convert all tensors to dense and get shapes\n",
    "    print(\"Converting sparse tensors to dense...\")\n",
    "    dense_dict = {key: tensor.to_dense() for key, tensor in top_connections_dict.items()}\n",
    "    check_memory_usage()\n",
    "    \n",
    "    M, N = next(iter(dense_dict.values())).shape\n",
    "    device = next(iter(dense_dict.values())).device\n",
    "    num_dicts = len(dense_dict)\n",
    "    dict_keys = list(dense_dict.keys())\n",
    "    \n",
    "    print(f\"Processing {M} rows in chunks of {chunk_size}\")\n",
    "    print(f\"Current memory usage: {get_memory_usage_gb():.2f}GB\")\n",
    "    \n",
    "    # Initialize result dictionary with -1s on CPU\n",
    "    result_dict = {key: t.full((M, c), -1, dtype=t.long) for key in dict_keys}\n",
    "    check_memory_usage()\n",
    "    \n",
    "    # Process chunks\n",
    "    chunk_pbar = tqdm(range(0, M, chunk_size), desc=\"Processing chunks\")\n",
    "    for start_idx in chunk_pbar:\n",
    "        end_idx = min(start_idx + chunk_size, M)\n",
    "        chunk_pbar.set_postfix({'mem_usage': f'{get_memory_usage_gb():.2f}GB'})\n",
    "        \n",
    "        # Stack chunk of all tensors\n",
    "        chunk_values = t.stack([dense[start_idx:end_idx] for dense in dense_dict.values()], dim=1).cuda()\n",
    "        chunk_size_actual = end_idx - start_idx\n",
    "        \n",
    "        # Get absolute values\n",
    "        abs_values = chunk_values.abs()\n",
    "        \n",
    "        # Create indices tensors\n",
    "        batch_idx = t.arange(chunk_size_actual, device='cuda')[:, None, None].expand(-1, num_dicts, N)\n",
    "        dict_idx = t.arange(num_dicts, device='cuda')[None, :, None].expand(chunk_size_actual, -1, N)\n",
    "        col_idx = t.arange(N, device='cuda')[None, None, :].expand(chunk_size_actual, num_dicts, -1)\n",
    "        \n",
    "        # Mask for nonzero values\n",
    "        nonzero_mask = chunk_values != 0\n",
    "        \n",
    "        # Get values and indices where values are nonzero\n",
    "        values_flat = abs_values[nonzero_mask]\n",
    "        batch_flat = batch_idx[nonzero_mask]\n",
    "        dict_flat = dict_idx[nonzero_mask]\n",
    "        col_flat = col_idx[nonzero_mask]\n",
    "        \n",
    "        # Group by batch within chunk\n",
    "        batch_sizes = nonzero_mask.sum(dim=(1,2))\n",
    "        batch_groups = t.split(t.arange(values_flat.size(0), device='cuda'), batch_sizes.tolist())\n",
    "        \n",
    "        # Sort values within each batch group and get top c\n",
    "        batch_pbar = tqdm(enumerate(batch_groups), \n",
    "                         total=len(batch_groups), \n",
    "                         desc=\"Processing batches\",\n",
    "                         leave=False)\n",
    "        \n",
    "        for b, group in batch_pbar:\n",
    "            if len(group) > 0:\n",
    "                # Sort this batch's values\n",
    "                sorted_vals, sort_idx = values_flat[group].sort(descending=True)\n",
    "                top_c_idx = group[sort_idx[:c]]\n",
    "                \n",
    "                # Get corresponding dictionary indices and column indices\n",
    "                top_dict_indices = dict_flat[top_c_idx]\n",
    "                top_col_indices = col_flat[top_c_idx]\n",
    "                \n",
    "                # For each dictionary\n",
    "                for d, key in enumerate(dict_keys):\n",
    "                    # Get indices where this dictionary appears\n",
    "                    dict_mask = top_dict_indices == d\n",
    "                    if dict_mask.any():\n",
    "                        # Get columns for this dictionary and place them in result\n",
    "                        dict_cols = top_col_indices[dict_mask]\n",
    "                        num_cols = dict_cols.size(0)\n",
    "                        result_dict[key][start_idx + b, :num_cols] = dict_cols\n",
    "            \n",
    "            check_memory_usage()\n",
    "        \n",
    "        # Clear GPU memory\n",
    "        del chunk_values, abs_values, batch_idx, dict_idx, col_idx\n",
    "        del values_flat, batch_flat, dict_flat, col_flat\n",
    "        t.cuda.empty_cache()\n",
    "    \n",
    "    return {k : v.cuda() for k, v in result_dict.items()}"
   ]
  },
  {
   "cell_type": "code",
   "execution_count": 24,
   "metadata": {},
   "outputs": [
    {
     "name": "stdout",
     "output_type": "stream",
     "text": [
      "Converting sparse tensors to dense...\n",
      "Processing 12288 rows in chunks of 100\n",
      "Current memory usage: 2.88GB\n"
     ]
    },
    {
     "name": "stderr",
     "output_type": "stream",
     "text": [
      "Processing chunks: 100%|██████████| 123/123 [00:14<00:00,  8.71it/s, mem_usage=2.88GB]\n"
     ]
    },
    {
     "name": "stdout",
     "output_type": "stream",
     "text": [
      "Converting sparse tensors to dense...\n",
      "Processing 12288 rows in chunks of 100\n",
      "Current memory usage: 4.01GB\n"
     ]
    },
    {
     "name": "stderr",
     "output_type": "stream",
     "text": [
      "Processing chunks: 100%|██████████| 123/123 [00:14<00:00,  8.30it/s, mem_usage=4.01GB]\n"
     ]
    },
    {
     "name": "stdout",
     "output_type": "stream",
     "text": [
      "Converting sparse tensors to dense...\n",
      "Processing 12288 rows in chunks of 100\n",
      "Current memory usage: 5.13GB\n"
     ]
    },
    {
     "name": "stderr",
     "output_type": "stream",
     "text": [
      "Processing chunks: 100%|██████████| 123/123 [00:14<00:00,  8.60it/s, mem_usage=5.13GB]\n"
     ]
    },
    {
     "name": "stdout",
     "output_type": "stream",
     "text": [
      "Converting sparse tensors to dense...\n",
      "Processing 12288 rows in chunks of 100\n",
      "Current memory usage: 6.43GB\n"
     ]
    },
    {
     "name": "stderr",
     "output_type": "stream",
     "text": [
      "Processing chunks: 100%|██████████| 123/123 [00:17<00:00,  7.01it/s, mem_usage=6.43GB]\n"
     ]
    },
    {
     "name": "stdout",
     "output_type": "stream",
     "text": [
      "Converting sparse tensors to dense...\n",
      "Processing 12288 rows in chunks of 100\n",
      "Current memory usage: 7.65GB\n"
     ]
    },
    {
     "name": "stderr",
     "output_type": "stream",
     "text": [
      "Processing chunks: 100%|██████████| 123/123 [00:22<00:00,  5.55it/s, mem_usage=7.66GB]\n"
     ]
    },
    {
     "name": "stdout",
     "output_type": "stream",
     "text": [
      "Converting sparse tensors to dense...\n",
      "Processing 12288 rows in chunks of 100\n",
      "Current memory usage: 8.88GB\n"
     ]
    },
    {
     "name": "stderr",
     "output_type": "stream",
     "text": [
      "Processing chunks: 100%|██████████| 123/123 [00:25<00:00,  4.85it/s, mem_usage=8.87GB]\n"
     ]
    },
    {
     "name": "stdout",
     "output_type": "stream",
     "text": [
      "Converting sparse tensors to dense...\n",
      "Processing 12288 rows in chunks of 100\n",
      "Current memory usage: 10.07GB\n"
     ]
    },
    {
     "name": "stderr",
     "output_type": "stream",
     "text": [
      "Processing chunks: 100%|██████████| 123/123 [00:24<00:00,  5.01it/s, mem_usage=10.07GB]\n"
     ]
    },
    {
     "name": "stdout",
     "output_type": "stream",
     "text": [
      "Converting sparse tensors to dense...\n",
      "Processing 12288 rows in chunks of 100\n",
      "Current memory usage: 11.33GB\n"
     ]
    },
    {
     "name": "stderr",
     "output_type": "stream",
     "text": [
      "Processing chunks: 100%|██████████| 123/123 [00:25<00:00,  4.82it/s, mem_usage=11.33GB]\n"
     ]
    },
    {
     "name": "stdout",
     "output_type": "stream",
     "text": [
      "Converting sparse tensors to dense...\n",
      "Processing 12288 rows in chunks of 100\n",
      "Current memory usage: 12.62GB\n"
     ]
    },
    {
     "name": "stderr",
     "output_type": "stream",
     "text": [
      "Processing chunks: 100%|██████████| 123/123 [00:27<00:00,  4.50it/s, mem_usage=12.62GB]\n"
     ]
    },
    {
     "name": "stdout",
     "output_type": "stream",
     "text": [
      "Converting sparse tensors to dense...\n",
      "Processing 12288 rows in chunks of 100\n",
      "Current memory usage: 13.86GB\n"
     ]
    },
    {
     "name": "stderr",
     "output_type": "stream",
     "text": [
      "Processing chunks: 100%|██████████| 123/123 [00:30<00:00,  4.03it/s, mem_usage=13.87GB]\n"
     ]
    },
    {
     "name": "stdout",
     "output_type": "stream",
     "text": [
      "Converting sparse tensors to dense...\n",
      "Processing 12288 rows in chunks of 100\n",
      "Current memory usage: 14.96GB\n"
     ]
    },
    {
     "name": "stderr",
     "output_type": "stream",
     "text": [
      "Processing chunks: 100%|██████████| 123/123 [00:31<00:00,  3.90it/s, mem_usage=15.03GB]\n"
     ]
    },
    {
     "name": "stdout",
     "output_type": "stream",
     "text": [
      "Converting sparse tensors to dense...\n",
      "Processing 12288 rows in chunks of 100\n",
      "Current memory usage: 15.95GB\n"
     ]
    },
    {
     "name": "stderr",
     "output_type": "stream",
     "text": [
      "Processing chunks: 100%|██████████| 123/123 [00:31<00:00,  3.96it/s, mem_usage=16.06GB]\n"
     ]
    }
   ],
   "source": [
    "c=100\n",
    "\n",
    "connections = {}\n",
    "\n",
    "for down_layer in range(12):\n",
    "    down_name = f\"mlp_{down_layer}\"\n",
    "    conns = {}\n",
    "    \n",
    "    for up_name in [f\"mlp_{i}\" for i in range(down_layer)] + [f\"attn_{i}\" for i in range(down_layer+1)]:\n",
    "        with open(f\"/root/dictionary_learning/notebooks/importance_scores/importance_{up_name}_to_{down_name}.pkl\", \"rb\") as f:\n",
    "            conns[up_name] = pickle.load(f)\n",
    "    \n",
    "    connections[down_name] = get_top_c_indices(conns, c)"
   ]
  },
  {
   "cell_type": "code",
   "execution_count": 25,
   "metadata": {},
   "outputs": [],
   "source": [
    "# Save connections as pickle file\n",
    "with open(f\"/root/dictionary_learning/notebooks/connections_100.pkl\", \"wb\") as f:\n",
    "    pickle.dump(connections, f)"
   ]
  },
  {
   "cell_type": "code",
   "execution_count": null,
   "metadata": {},
   "outputs": [],
   "source": [
    "suite.conncetions = connections"
   ]
  },
  {
   "cell_type": "code",
   "execution_count": 20,
   "metadata": {},
   "outputs": [],
   "source": [
    "def run_evaluation(\n",
    "        suite, \n",
    "        buffer, \n",
    "        n_batches=10, \n",
    "        ce_batch_size=32,\n",
    "        use_sparse_connections=False\n",
    "        ):\n",
    "    '''Simple function to run evaluation on several batches, and return the average metrics'''\n",
    "    \n",
    "    varexp_metrics = {name : {} for name in buffer.submodules.keys()}\n",
    "    ce_metrics = {name : {} for name in buffer.submodules.keys()}\n",
    "\n",
    "    for i in tqdm(range(n_batches)):\n",
    "        # get varexp metrics\n",
    "        initial_acts, input_acts, output_acts, layernorm_scales = next(buffer)\n",
    "        batch_varexp_metrics = suite.evaluate_varexp_batch(\n",
    "            initial_acts,\n",
    "            input_acts, \n",
    "            output_acts,\n",
    "            layernorm_scales,\n",
    "            use_sparse_connections=use_sparse_connections\n",
    "            )\n",
    "\n",
    "        # # get CE metrics\n",
    "        # b = buffer.refresh_batch_size\n",
    "        # buffer.refresh_batch_size = ce_batch_size\n",
    "        # tokens = buffer.token_batch()\n",
    "        # batch_ce_metrics = suite.evaluate_ce_batch(\n",
    "        #     model, \n",
    "        #     tokens, \n",
    "        #     initial_submodule,\n",
    "        #     submodules,\n",
    "        #     layernorm_submodules,\n",
    "        #     use_sparse_connections=use_sparse_connections\n",
    "        #     )\n",
    "        # buffer.refresh_batch_size = b\n",
    "\n",
    "        for name in ce_metrics.keys():\n",
    "            # for metric in batch_ce_metrics[name].keys():\n",
    "            #     ce_metrics[name][metric] = ce_metrics[name].get(metric, 0) + batch_ce_metrics[name].get(metric, 0) / n_batches\n",
    "            for metric in batch_varexp_metrics[name].keys():\n",
    "                varexp_metrics[name][metric] = varexp_metrics[name].get(metric, 0) + batch_varexp_metrics[name].get(metric, 0) / n_batches\n",
    "           \n",
    "    return varexp_metrics, ce_metrics"
   ]
  },
  {
   "cell_type": "code",
   "execution_count": 21,
   "metadata": {},
   "outputs": [
    {
     "name": "stderr",
     "output_type": "stream",
     "text": [
      "  0%|          | 0/2 [00:00<?, ?it/s]"
     ]
    },
    {
     "name": "stderr",
     "output_type": "stream",
     "text": [
      "100%|██████████| 2/2 [00:02<00:00,  1.49s/it]\n"
     ]
    }
   ],
   "source": [
    "varexp_metrics, ce_metrics = run_evaluation(\n",
    "    suite, \n",
    "    buffer, \n",
    "    n_batches=2, \n",
    "    ce_batch_size=1,\n",
    "    use_sparse_connections=True\n",
    "    )"
   ]
  },
  {
   "cell_type": "code",
   "execution_count": 22,
   "metadata": {},
   "outputs": [],
   "source": [
    "for name in ce_metrics.keys():\n",
    "    ce_metrics[name]['loss_reconstructed'] = 1\n",
    "    ce_metrics[name]['loss_original'] = 1\n",
    "    ce_metrics[name]['frac_recovered'] = 1"
   ]
  },
  {
   "cell_type": "code",
   "execution_count": 23,
   "metadata": {},
   "outputs": [
    {
     "name": "stdout",
     "output_type": "stream",
     "text": [
      "Clean loss = 1.000\n",
      "\n",
      "Module  CE increase  CE expl FVU\n",
      "mlp_0   0.000        100%     46%\n",
      "mlp_1   0.000        100%     232%\n",
      "mlp_2   0.000        100%     193%\n",
      "mlp_3   0.000        100%     175%\n",
      "mlp_4   0.000        100%     186%\n",
      "mlp_5   0.000        100%     216%\n",
      "mlp_6   0.000        100%     150%\n",
      "mlp_7   0.000        100%     126%\n",
      "mlp_8   0.000        100%     118%\n",
      "mlp_9   0.000        100%     116%\n",
      "mlp_10   0.000        100%     142%\n",
      "mlp_11   0.000        100%     90%\n",
      "\n",
      "attn_0   0.000        100%     1%\n",
      "attn_1   0.000        100%     3%\n",
      "attn_2   0.000        100%     4%\n",
      "attn_3   0.000        100%     6%\n",
      "attn_4   0.000        100%     8%\n",
      "attn_5   0.000        100%     6%\n",
      "attn_6   0.000        100%     7%\n",
      "attn_7   0.000        100%     7%\n",
      "attn_8   0.000        100%     8%\n",
      "attn_9   0.000        100%     6%\n",
      "attn_10   0.000        100%     5%\n",
      "attn_11   0.000        100%     1%\n"
     ]
    }
   ],
   "source": [
    "print(f\"Clean loss = {ce_metrics['mlp_0']['loss_original']:.3f}\\n\")\n",
    "\n",
    "print(\"Module  CE increase  CE expl FVU\")\n",
    "for name in [k for k in ce_metrics.keys() if 'mlp' in k]:\n",
    "    print(f\"{name}   {ce_metrics[name]['loss_reconstructed'] - ce_metrics[name]['loss_original']:.3f}        {ce_metrics[name]['frac_recovered']*100:.0f}%     {varexp_metrics[name]['FVU']*100:.0f}%\")\n",
    "\n",
    "print()\n",
    "\n",
    "for name in [k for k in ce_metrics.keys() if 'attn' in k]:\n",
    "    print(f\"{name}   {ce_metrics[name]['loss_reconstructed'] - ce_metrics[name]['loss_original']:.3f}        {ce_metrics[name]['frac_recovered']*100:.0f}%     {varexp_metrics[name]['FVU']*100:.0f}%\")"
   ]
  },
  {
   "cell_type": "code",
   "execution_count": 36,
   "metadata": {},
   "outputs": [
    {
     "name": "stdout",
     "output_type": "stream",
     "text": [
      "Clean loss = 1.000\n",
      "\n",
      "Module  CE increase  CE expl FVU\n",
      "mlp_0   0.000        100%     4%\n",
      "mlp_1   0.000        100%     11%\n",
      "mlp_2   0.000        100%     19%\n",
      "mlp_3   0.000        100%     12%\n",
      "mlp_4   0.000        100%     15%\n",
      "mlp_5   0.000        100%     16%\n",
      "mlp_6   0.000        100%     17%\n",
      "mlp_7   0.000        100%     17%\n",
      "mlp_8   0.000        100%     17%\n",
      "mlp_9   0.000        100%     15%\n",
      "mlp_10   0.000        100%     11%\n",
      "mlp_11   0.000        100%     8%\n",
      "\n",
      "attn_0   0.000        100%     1%\n",
      "attn_1   0.000        100%     3%\n",
      "attn_2   0.000        100%     4%\n",
      "attn_3   0.000        100%     6%\n",
      "attn_4   0.000        100%     8%\n",
      "attn_5   0.000        100%     7%\n",
      "attn_6   0.000        100%     8%\n",
      "attn_7   0.000        100%     7%\n",
      "attn_8   0.000        100%     8%\n",
      "attn_9   0.000        100%     7%\n",
      "attn_10   0.000        100%     6%\n",
      "attn_11   0.000        100%     1%\n"
     ]
    }
   ],
   "source": [
    "print(f\"Clean loss = {ce_metrics['mlp_0']['loss_original']:.3f}\\n\")\n",
    "\n",
    "print(\"Module  CE increase  CE expl FVU\")\n",
    "for name in [k for k in ce_metrics.keys() if 'mlp' in k]:\n",
    "    print(f\"{name}   {ce_metrics[name]['loss_reconstructed'] - ce_metrics[name]['loss_original']:.3f}        {ce_metrics[name]['frac_recovered']*100:.0f}%     {varexp_metrics[name]['FVU']*100:.0f}%\")\n",
    "\n",
    "print()\n",
    "\n",
    "for name in [k for k in ce_metrics.keys() if 'attn' in k]:\n",
    "    print(f\"{name}   {ce_metrics[name]['loss_reconstructed'] - ce_metrics[name]['loss_original']:.3f}        {ce_metrics[name]['frac_recovered']*100:.0f}%     {varexp_metrics[name]['FVU']*100:.0f}%\")"
   ]
  },
  {
   "cell_type": "code",
   "execution_count": 38,
   "metadata": {},
   "outputs": [
    {
     "data": {
      "text/plain": [
       "{'mlp_0': tensor([[   -1,    -1,    -1,  ...,    -1,    -1,    -1],\n",
       "         [  250,    -1, 11139,  ...,    -1,  7932,    -1],\n",
       "         [   -1,    -1,    -1,  ...,    -1,    -1,    -1],\n",
       "         ...,\n",
       "         [  250,    -1, 11139,  ..., 12242,    -1,    -1],\n",
       "         [  250,    -1,    -1,  ..., 11132,    -1,    -1],\n",
       "         [   -1,    -1,    -1,  ...,    -1,    -1,    -1]], device='cuda:0'),\n",
       " 'mlp_1': tensor([[   -1,    -1,    -1,  ...,    -1,    -1,    -1],\n",
       "         [   -1,  3208,    -1,  ...,    -1,    -1,  2056],\n",
       "         [   -1,    -1,    -1,  ...,    -1,    -1,    -1],\n",
       "         ...,\n",
       "         [   -1,  3208,    -1,  ...,    -1,  3180,    -1],\n",
       "         [   -1,    -1, 11580,  ...,    -1,    -1,    -1],\n",
       "         [ 3208,    -1,    -1,  ...,    -1,    -1,    -1]], device='cuda:0'),\n",
       " 'attn_0': tensor([[   -1,    -1,    -1,  ...,    -1,    -1,    -1],\n",
       "         [   -1,    -1,    -1,  ...,    -1,    -1,    -1],\n",
       "         [   -1,    -1,    -1,  ...,    -1,    -1,    -1],\n",
       "         ...,\n",
       "         [   -1,    -1,    -1,  ...,    -1,    -1,  8040],\n",
       "         [   -1,  7999,    -1,  ...,    -1, 10984,    -1],\n",
       "         [   -1,  7999,  6528,  ...,    -1,    -1,    -1]], device='cuda:0'),\n",
       " 'attn_1': tensor([[  -1,   -1,   -1,  ...,   -1,   -1,   -1],\n",
       "         [  -1,   -1,   -1,  ...,   -1,   -1,   -1],\n",
       "         [  -1,   -1,   -1,  ...,   -1,   -1,   -1],\n",
       "         ...,\n",
       "         [  -1,   -1,   -1,  ...,   -1,   -1,   -1],\n",
       "         [  -1,   -1,   -1,  ...,   -1,   -1, 9584],\n",
       "         [  -1,   -1,   -1,  ...,   -1, 1383, 5653]], device='cuda:0'),\n",
       " 'attn_2': tensor([[  -1,   -1,   -1,  ...,   -1,   -1,   -1],\n",
       "         [  -1,   -1,   -1,  ...,  321,   -1,   -1],\n",
       "         [  -1,   -1,   -1,  ...,   -1,   -1,   -1],\n",
       "         ...,\n",
       "         [  -1,   -1,   -1,  ...,   -1,   -1,   -1],\n",
       "         [  -1,   -1,   -1,  ...,   -1,   -1,   -1],\n",
       "         [  -1,   -1,   -1,  ..., 6794,   -1,   -1]], device='cuda:0')}"
      ]
     },
     "execution_count": 38,
     "metadata": {},
     "output_type": "execute_result"
    }
   ],
   "source": [
    "top_connections['mlp_10']"
   ]
  }
 ],
 "metadata": {
  "kernelspec": {
   "display_name": "Python 3",
   "language": "python",
   "name": "python3"
  },
  "language_info": {
   "codemirror_mode": {
    "name": "ipython",
    "version": 3
   },
   "file_extension": ".py",
   "mimetype": "text/x-python",
   "name": "python",
   "nbconvert_exporter": "python",
   "pygments_lexer": "ipython3",
   "version": "3.11.10"
  }
 },
 "nbformat": 4,
 "nbformat_minor": 2
}
